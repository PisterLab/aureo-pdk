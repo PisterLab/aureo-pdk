{
 "cells": [
  {
   "cell_type": "code",
   "execution_count": 24,
   "metadata": {},
   "outputs": [],
   "source": [
    "import argparse\n",
    "import subprocess, os\n",
    "import gdspy"
   ]
  },
  {
   "cell_type": "code",
   "execution_count": 25,
   "metadata": {},
   "outputs": [],
   "source": [
    "def change_layers_all(cell, old_layer, new_layer):\n",
    "    \"\"\"Make a copy of the shapes/paths in the given layer and add them to the cell with the new layer number.\"\"\"\n",
    "    shapes = get_polygons_by_layer(cell.polygons, old_layer)\n",
    "    for shape in shapes:\n",
    "        shape = gdspy.copy(shape)\n",
    "        shape.layers = [new_layer[0]]\n",
    "        shape.datatypes = [new_layer[1]]\n",
    "        cell.add(shape)\n",
    "\n",
    "    paths = get_paths_by_layer(cell.paths, old_layer)\n",
    "    paths_copy = paths.copy()\n",
    "    for path in paths:\n",
    "        path = gdspy.copy(path)\n",
    "        path.layers = [new_layer[0]]\n",
    "        path.datatypes = [new_layer[1]]\n",
    "        cell.add(path)\n",
    "\n",
    "    return cell\n",
    "def get_paths_by_layer(paths, layer):\n",
    "    \"\"\"Return a list of paths in the given layer.\"\"\"\n",
    "    return [path for path in paths if layer[0] in path.layers and layer[1] in path.datatypes ]\n",
    "\n",
    "def get_polygons_by_layer(polygons, layer):\n",
    "    \"\"\"Return a list of polygons in the given layer.\"\"\"\n",
    "    return [polygon for polygon in polygons if layer[0] in polygon.layers and layer[1] in polygon.datatypes ]\n",
    "\n",
    "def copy_list(list):\n",
    "    \"\"\"Return a copy of the given list.\"\"\"\n",
    "    return [gdspy.copy(item) for item in list]"
   ]
  },
  {
   "cell_type": "code",
   "execution_count": 26,
   "metadata": {},
   "outputs": [],
   "source": [
    "############################## \n",
    "# Preprocess\n",
    "##############################\n",
    "ld_soifab = (0, 0)\n",
    "ld_polyfab = (1, 0)\n",
    "ld_metalfab = (2, 0)\n",
    "ld_soi1fab = (3, 0)\n",
    "ld_poly1fab = (4, 0)\n",
    "ld_metal1fab = (5, 0)\n",
    "ld_metal2fab = (6, 0)\n",
    "ld_poly2fab = (7, 0)\n",
    "ld_soi2fab = (8, 0)\n",
    "ld_soi1 = (9, 0)\n",
    "ld_soihole1 = (10, 0)\n",
    "ld_poly1 = (11, 0)\n",
    "ld_lowmetal1 = (12, 0)\n",
    "ld_highmetal1 = (13, 0)\n",
    "ld_highmetal2 = (14, 0)\n",
    "ld_lowmetal2 = (15, 0)\n",
    "ld_poly2 = (16, 0)\n",
    "ld_soi2 = (17, 0)\n",
    "ld_soihole2 = (18, 0)"
   ]
  },
  {
   "cell_type": "code",
   "execution_count": 47,
   "metadata": {},
   "outputs": [
    {
     "name": "stdout",
     "output_type": "stream",
     "text": [
      "Cell (\"a_01_01_pscs\", 16886 polygons, 0 paths, 0 labels, 5 references)\n",
      "Cell (\"a_01_01_pscs\", 18667 polygons, 0 paths, 0 labels, 0 references)\n"
     ]
    }
   ],
   "source": [
    "lib = gdspy.GdsLibrary()\n",
    "lib.read_gds('a_01_01_pscs_preprocess.gds')\n",
    "main_cell = lib.top_level()[0]\n",
    "print(main_cell)\n",
    "\n",
    "gds_file = gdspy.GdsLibrary(infile=('a_01_01_pscs_preprocess.gds'))\n",
    "top_cell = gds_file.top_level()[0]\n",
    "top_cell = top_cell.flatten()\n",
    "lib = gdspy.GdsLibrary()\n",
    "lib.add(top_cell, include_dependencies=True)\n",
    "lib.write_gds(\"new_file.gds\")\n",
    "cell = top_cell\n",
    "print(cell)"
   ]
  },
  {
   "cell_type": "code",
   "execution_count": 37,
   "metadata": {},
   "outputs": [],
   "source": [
    "new_lib =  gdspy.GdsLibrary()\n",
    "new_lib.add(main_cell, include_dependencies=True)\n",
    "lib = new_lib\n",
    "cell = new_lib.top_level()[0]\n"
   ]
  },
  {
   "cell_type": "code",
   "execution_count": 48,
   "metadata": {},
   "outputs": [
    {
     "name": "stdout",
     "output_type": "stream",
     "text": [
      "Cell (\"a_01_01_pscs\", 18667 polygons, 0 paths, 0 labels, 0 references)\n"
     ]
    }
   ],
   "source": [
    "print(cell)"
   ]
  },
  {
   "cell_type": "code",
   "execution_count": 49,
   "metadata": {},
   "outputs": [],
   "source": [
    "shapes = cell.polygons\n",
    "paths = cell.get_paths()\n",
    "\n",
    "# Initialize empty list for the layers if there are no shapes drawn on them\n",
    "lm1shapes = get_polygons_by_layer(shapes, ld_lowmetal1)\n",
    "hm1shapes = get_polygons_by_layer(shapes, ld_highmetal1)\n",
    "lm2shapes = get_polygons_by_layer(shapes, ld_lowmetal2)\n",
    "hm2shapes = get_polygons_by_layer(shapes, ld_highmetal2)\n",
    "\n",
    "lm1paths = get_paths_by_layer(paths, ld_lowmetal1)\n",
    "hm1paths = get_paths_by_layer(paths, ld_highmetal1)\n",
    "lm2paths = get_paths_by_layer(paths, ld_lowmetal2)\n",
    "hm2paths = get_paths_by_layer(paths, ld_highmetal2)"
   ]
  },
  {
   "cell_type": "code",
   "execution_count": 50,
   "metadata": {},
   "outputs": [],
   "source": [
    "if lm1shapes or hm1shapes:\n",
    "    merged_m1shapes = lm1shapes + hm1shapes\n",
    "    for shape in merged_m1shapes:\n",
    "        shape.layers = [ld_metal1fab[0]]\n",
    "        shape.datatypes = [ld_metal1fab[1]]\n",
    "    cell.add(merged_m1shapes)\n",
    "\n",
    "if lm2shapes or hm2shapes:\n",
    "    merged_m2shapes  = lm2shapes + hm2shapes\n",
    "    for shape in merged_m2shapes:\n",
    "        shape.layers = [ld_metal2fab[0]]\n",
    "        shape.datatypes = [ld_metal2fab[1]]\n",
    "    cell.add(merged_m2shapes)"
   ]
  },
  {
   "cell_type": "code",
   "execution_count": 51,
   "metadata": {},
   "outputs": [],
   "source": [
    "# Cannot perform boolean operations on paths, so we must copy them over\n",
    "if lm1paths or hm1paths:\n",
    "    merged_m1paths = lm1paths + hm1paths\n",
    "    for path in merged_m1paths:\n",
    "        path = gdspy.copy(path)\n",
    "        path.layers = [ld_metal1fab[0]]\n",
    "        path.datatypes = [ld_metal1fab[1]]\n",
    "        cell.add(path)\n",
    "\n",
    "if lm2paths or hm2paths:\n",
    "    merged_m2paths = lm2paths + hm2paths\n",
    "    for path in merged_m2paths:\n",
    "        path = gdspy.copy(path)\n",
    "        path.layer = [ld_metal2fab[0]]\n",
    "        path.datatype = [ld_metal2fab[1]]\n",
    "        cell.add(path)"
   ]
  },
  {
   "cell_type": "code",
   "execution_count": 52,
   "metadata": {},
   "outputs": [
    {
     "data": {
      "text/plain": [
       "<gdspy.library.Cell at 0x1b198e42b00>"
      ]
     },
     "execution_count": 52,
     "metadata": {},
     "output_type": "execute_result"
    }
   ],
   "source": [
    "# Now assign the SOI1, POLY1, SOI2, POLY2 layers to the fab layers\n",
    "change_layers_all(cell, ld_soi1, ld_soi1fab)\n",
    "change_layers_all(cell, ld_poly1, ld_poly1fab)\n",
    "change_layers_all(cell, ld_soi2, ld_soi2fab)\n",
    "change_layers_all(cell, ld_poly2, ld_poly2fab)"
   ]
  },
  {
   "cell_type": "code",
   "execution_count": 53,
   "metadata": {},
   "outputs": [],
   "source": [
    "# Write out the new GDS file\n",
    "gdspy.write_gds('a_01_01_pscs' + '_merged.gds', cells=[cell])"
   ]
  },
  {
   "cell_type": "code",
   "execution_count": 55,
   "metadata": {},
   "outputs": [
    {
     "ename": "NameError",
     "evalue": "name 'args' is not defined",
     "output_type": "error",
     "traceback": [
      "\u001b[1;31m---------------------------------------------------------------------------\u001b[0m",
      "\u001b[1;31mNameError\u001b[0m                                 Traceback (most recent call last)",
      "\u001b[1;32me:\\Berkeley\\aureo\\aureo-pdk\\tools\\export_gds_manual.ipynb Cell 12\u001b[0m line \u001b[0;36m4\n\u001b[0;32m     <a href='vscode-notebook-cell:/e%3A/Berkeley/aureo/aureo-pdk/tools/export_gds_manual.ipynb#X14sZmlsZQ%3D%3D?line=45'>46</a>\u001b[0m change_layers_all(fab_cell, ld_poly1fab, ld_polyfab)\n\u001b[0;32m     <a href='vscode-notebook-cell:/e%3A/Berkeley/aureo/aureo-pdk/tools/export_gds_manual.ipynb#X14sZmlsZQ%3D%3D?line=47'>48</a>\u001b[0m \u001b[39m# Write out the new GDS file\u001b[39;00m\n\u001b[1;32m---> <a href='vscode-notebook-cell:/e%3A/Berkeley/aureo/aureo-pdk/tools/export_gds_manual.ipynb#X14sZmlsZQ%3D%3D?line=48'>49</a>\u001b[0m lib\u001b[39m.\u001b[39mwrite_gds(args\u001b[39m.\u001b[39mcell \u001b[39m+\u001b[39m \u001b[39m'\u001b[39m\u001b[39m_fab.gds\u001b[39m\u001b[39m'\u001b[39m, cells\u001b[39m=\u001b[39m[fab_cell])\n\u001b[0;32m     <a href='vscode-notebook-cell:/e%3A/Berkeley/aureo/aureo-pdk/tools/export_gds_manual.ipynb#X14sZmlsZQ%3D%3D?line=50'>51</a>\u001b[0m \u001b[39m# reload the gds and view it\u001b[39;00m\n\u001b[0;32m     <a href='vscode-notebook-cell:/e%3A/Berkeley/aureo/aureo-pdk/tools/export_gds_manual.ipynb#X14sZmlsZQ%3D%3D?line=51'>52</a>\u001b[0m lib \u001b[39m=\u001b[39m gdspy\u001b[39m.\u001b[39mGdsLibrary()\n",
      "\u001b[1;31mNameError\u001b[0m: name 'args' is not defined"
     ]
    }
   ],
   "source": [
    "##############################\n",
    "# Reflect\n",
    "##############################\n",
    "shapes = cell.get_polygons(by_spec=True)\n",
    "\n",
    "fab_cell = gdspy.Cell('a_01_01_pscs' + '_fab')\n",
    "\n",
    "bbox = cell.get_bounding_box()\n",
    "xmin = bbox[0][0]\n",
    "xmax = bbox[1][0]\n",
    "ymin = bbox[0][1]\n",
    "ymax = bbox[1][1]\n",
    "\n",
    "# Copy and reflect SOI2FAB, METAL2FAB, and POLY2FAB layers\n",
    "for ld_fab in [(ld_soi2fab, ld_soifab), (ld_metal2fab, ld_metalfab), (ld_poly2fab, ld_polyfab)]:\n",
    "    fab_shapes = get_polygons_by_layer(cell.polygons, ld_fab[0])\n",
    "    if fab_shapes:\n",
    "        for shape in fab_shapes:\n",
    "            shape = gdspy.copy(shape)\n",
    "            shape.mirror((xmax,ymin), (xmax,ymax))  # reflect about the line x = rightmost\n",
    "            shape.layers = [ld_fab[1][0]]\n",
    "            shape.datatypes = [ld_fab[1][1]]\n",
    "            fab_cell.add(shape)\n",
    "    fab_paths = get_paths_by_layer(cell.paths, ld_fab[0])\n",
    "    if fab_paths:\n",
    "        copied = fab_paths.copy()\n",
    "        for path in fab_paths:\n",
    "            path = gdspy.copy(path)\n",
    "            path.mirror((xmax,ymin), (xmax,ymax))\n",
    "            path.layers = [ld_fab[1][0]]\n",
    "            path.datatypes = [ld_fab[1][1]]\n",
    "            fab_cell.add(path)\n",
    "\n",
    "\n",
    "\n",
    "fab_cell.add(copy_list(get_polygons_by_layer(cell.polygons, ld_soi1fab)))\n",
    "fab_cell.add(copy_list(get_polygons_by_layer(cell.polygons, ld_metal1fab)))\n",
    "fab_cell.add(copy_list(get_polygons_by_layer(cell.polygons, ld_poly1fab)))\n",
    "\n",
    "fab_cell.add(copy_list(get_paths_by_layer(cell.paths, ld_soi1fab)))\n",
    "fab_cell.add(copy_list(get_paths_by_layer(cell.paths, ld_metal1fab)))\n",
    "fab_cell.add(copy_list(get_paths_by_layer(cell.paths, ld_poly1fab)))\n",
    "\n",
    "change_layers_all(fab_cell, ld_soi1fab, ld_soifab)\n",
    "change_layers_all(fab_cell, ld_metal1fab, ld_metalfab)\n",
    "change_layers_all(fab_cell, ld_poly1fab, ld_polyfab)\n",
    "\n",
    "# Write out the new GDS file\n",
    "lib.write_gds('a_01_01_pscs' + '_fab.gds', cells=[fab_cell])\n",
    "\n",
    "# reload the gds and view it\n",
    "lib = gdspy.GdsLibrary()\n",
    "lib.read_gds('a_01_01_pscs' + '_fab.gds')\n",
    "gdspy.LayoutViewer(cells=lib.cells['a_01_01_pscs' + '_fab'], depth=3)\n"
   ]
  }
 ],
 "metadata": {
  "kernelspec": {
   "display_name": "aureo",
   "language": "python",
   "name": "python3"
  },
  "language_info": {
   "codemirror_mode": {
    "name": "ipython",
    "version": 3
   },
   "file_extension": ".py",
   "mimetype": "text/x-python",
   "name": "python",
   "nbconvert_exporter": "python",
   "pygments_lexer": "ipython3",
   "version": "3.10.12"
  },
  "orig_nbformat": 4
 },
 "nbformat": 4,
 "nbformat_minor": 2
}
